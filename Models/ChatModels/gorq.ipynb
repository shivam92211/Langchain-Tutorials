{
 "cells": [
  {
   "cell_type": "code",
   "execution_count": 7,
   "metadata": {},
   "outputs": [
    {
     "data": {
      "text/plain": [
       "True"
      ]
     },
     "execution_count": 7,
     "metadata": {},
     "output_type": "execute_result"
    }
   ],
   "source": [
    "from langchain_groq import ChatGroq\n",
    "from dotenv import load_dotenv\n",
    "\n",
    "load_dotenv()"
   ]
  },
  {
   "cell_type": "code",
   "execution_count": 13,
   "metadata": {},
   "outputs": [],
   "source": [
    "model = ChatGroq(\n",
    "    model=\"llama-3.2-90b-vision-preview\",\n",
    ")"
   ]
  },
  {
   "cell_type": "code",
   "execution_count": 14,
   "metadata": {},
   "outputs": [],
   "source": [
    "result = model.invoke(\"Name all the states in India. Just give list no explanation\")"
   ]
  },
  {
   "cell_type": "code",
   "execution_count": 16,
   "metadata": {},
   "outputs": [
    {
     "name": "stdout",
     "output_type": "stream",
     "text": [
      "1. Andhra Pradesh\n",
      "2. Arunachal Pradesh\n",
      "3. Assam\n",
      "4. Bihar\n",
      "5. Chhattisgarh\n",
      "6. Goa\n",
      "7. Gujarat\n",
      "8. Haryana\n",
      "9. Himachal Pradesh\n",
      "10. Jharkhand\n",
      "11. Karnataka\n",
      "12. Kerala\n",
      "13. Madhya Pradesh\n",
      "14. Maharashtra\n",
      "15. Manipur\n",
      "16. Meghalaya\n",
      "17. Mizoram\n",
      "18. Nagaland\n",
      "19. Odisha\n",
      "20. Punjab\n",
      "21. Rajasthan\n",
      "22. Sikkim\n",
      "23. Tamil Nadu\n",
      "24. Telangana\n",
      "25. Tripura\n",
      "26. Uttar Pradesh\n",
      "27. Uttarakhand\n",
      "28. West Bengal\n"
     ]
    }
   ],
   "source": [
    "print(result.content)"
   ]
  },
  {
   "cell_type": "code",
   "execution_count": null,
   "metadata": {},
   "outputs": [],
   "source": []
  }
 ],
 "metadata": {
  "language_info": {
   "name": "python"
  }
 },
 "nbformat": 4,
 "nbformat_minor": 2
}
