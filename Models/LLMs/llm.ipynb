{
 "cells": [
  {
   "cell_type": "markdown",
   "metadata": {},
   "source": [
    "### Difference Between LLM Models and Chat Models\n",
    "\n",
    "**LLM Models (Large Language Models):**\n",
    "- **Purpose:** Designed to understand and generate human-like text based on the input they receive.\n",
    "- **Training:** Trained on vast amounts of text data from diverse sources to predict the next word in a sentence.\n",
    "- **Capabilities:** Can perform a wide range of natural language processing tasks such as translation, summarization, and text generation.\n",
    "- **Examples:** GPT-3, BERT, T5.\n",
    "\n",
    "**Chat Models:**\n",
    "- **Purpose:** Specifically designed for conversational interactions, providing responses in a dialogue format.\n",
    "- **Training:** Trained on conversational data to understand context, maintain coherence, and generate appropriate responses in a conversation.\n",
    "- **Capabilities:** Focused on maintaining context over multiple turns, understanding user intent, and providing relevant and coherent responses.\n",
    "- **Examples:** ChatGPT, Google Meena, Microsoft DialoGPT.\n",
    "\n",
    "In summary, while LLM models are general-purpose language models capable of various NLP tasks, chat models are specialized for conversational interactions, ensuring coherent and contextually relevant dialogue."
   ]
  },
  {
   "cell_type": "code",
   "execution_count": 7,
   "metadata": {},
   "outputs": [],
   "source": [
    "from langchain_openai import OpenAI\n",
    "from dotenv import load_dotenv \n",
    "import os\n",
    "\n",
    "load_dotenv()\n",
    "\n",
    "llm = OpenAI(\n",
    "    model=\"gpt-3.5-turbo-instruct\",\n",
    "    api_key=os.getenv(\"OPENAI_API_KEY\")\n",
    ")\n"
   ]
  },
  {
   "cell_type": "code",
   "execution_count": 10,
   "metadata": {},
   "outputs": [],
   "source": [
    "results = llm.invoke(\"what do you me by deep sea creatures\")"
   ]
  },
  {
   "cell_type": "code",
   "execution_count": 12,
   "metadata": {},
   "outputs": [
    {
     "data": {
      "text/plain": [
       "'\\n\\nDeep sea creatures refer to animals and organisms that live in the depths of the ocean, specifically the mesopelagic, bathypelagic, abyssopelagic, and hadalpelagic zones. These creatures have adapted to survive in extreme conditions such as high water pressure, little to no light, and cold temperatures. Examples of deep sea creatures include anglerfish, giant squid, viperfish, and gulper eels. They are often characterized by unique physical features, bioluminescence, and unusual behaviors. Due to the difficulty in accessing their habitats, much about these creatures remains unknown to scientists.'"
      ]
     },
     "execution_count": 12,
     "metadata": {},
     "output_type": "execute_result"
    }
   ],
   "source": [
    "results"
   ]
  },
  {
   "cell_type": "code",
   "execution_count": null,
   "metadata": {},
   "outputs": [],
   "source": []
  }
 ],
 "metadata": {
  "language_info": {
   "name": "python"
  }
 },
 "nbformat": 4,
 "nbformat_minor": 2
}
