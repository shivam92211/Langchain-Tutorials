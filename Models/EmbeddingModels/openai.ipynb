{
 "cells": [
  {
   "cell_type": "code",
   "execution_count": 1,
   "metadata": {},
   "outputs": [
    {
     "data": {
      "text/plain": [
       "True"
      ]
     },
     "execution_count": 1,
     "metadata": {},
     "output_type": "execute_result"
    }
   ],
   "source": [
    "from langchain_openai import OpenAIEmbeddings\n",
    "from dotenv import load_dotenv\n",
    "\n",
    "load_dotenv()"
   ]
  },
  {
   "cell_type": "code",
   "execution_count": 3,
   "metadata": {},
   "outputs": [],
   "source": [
    "embedding = OpenAIEmbeddings(\n",
    "    model=\"text-embedding-3-large\",\n",
    "    dimensions=32\n",
    ")"
   ]
  },
  {
   "cell_type": "code",
   "execution_count": 4,
   "metadata": {},
   "outputs": [],
   "source": [
    "result = embedding.embed_query(\"Shivam is the great man\")"
   ]
  },
  {
   "cell_type": "code",
   "execution_count": 6,
   "metadata": {},
   "outputs": [
    {
     "name": "stdout",
     "output_type": "stream",
     "text": [
      "[-0.11586538  0.16678032 -0.05110854  0.16678032  0.04636551  0.252058\n",
      " -0.17210412  0.0769048  -0.14529151  0.38079733 -0.06964506  0.16494119\n",
      "  0.02260198 -0.05928784  0.05986862  0.23463465 -0.04713988  0.12089879\n",
      " -0.53586525  0.05851347 -0.20908038 -0.16600595 -0.15719748 -0.22476141\n",
      " -0.15380959  0.00894157  0.16484439  0.03443534  0.11935005 -0.0961673\n",
      " -0.17723434  0.07322653]\n"
     ]
    }
   ],
   "source": [
    "import numpy as np\n",
    "\n",
    "print(np.array(result))"
   ]
  },
  {
   "cell_type": "markdown",
   "metadata": {},
   "source": [
    "## Multiple query embedding generation"
   ]
  },
  {
   "cell_type": "code",
   "execution_count": 7,
   "metadata": {},
   "outputs": [],
   "source": [
    "documents = [\n",
    "    \"Shivam is the great boy\",\n",
    "    \"Great boy is shivam\",\n",
    "    \"shivam is very nice\"\n",
    "]"
   ]
  },
  {
   "cell_type": "code",
   "execution_count": 8,
   "metadata": {},
   "outputs": [],
   "source": [
    "result = embedding.embed_documents(documents)"
   ]
  },
  {
   "cell_type": "code",
   "execution_count": 9,
   "metadata": {},
   "outputs": [
    {
     "name": "stdout",
     "output_type": "stream",
     "text": [
      "[[-1.23517551e-01  2.40634188e-01 -3.66302058e-02  2.00928554e-01\n",
      "   1.09115504e-01  3.59851122e-01 -1.66923717e-01  2.19531190e-02\n",
      "  -2.25232005e-01  2.69638300e-01 -7.28603527e-02  6.89597949e-02\n",
      "   7.19602257e-02 -3.76053415e-02  4.73067202e-02  2.74839044e-01\n",
      "   8.49495735e-03  3.41298506e-02 -5.18873751e-01  1.08715445e-01\n",
      "  -1.86226457e-01 -1.92927420e-01 -1.47520959e-01 -2.64637589e-01\n",
      "  -8.65622982e-02  8.37118924e-02  1.20267086e-02  3.00542712e-02\n",
      "  -1.14328749e-02 -7.45105892e-02 -1.50821432e-01  8.69123489e-02]\n",
      " [-1.49239197e-01  2.76737630e-01  1.23914913e-04  1.48731232e-01\n",
      "   7.49751702e-02  3.74266297e-01 -2.08670735e-01 -1.24450652e-02\n",
      "  -2.55809605e-01  2.21877739e-01 -1.10329315e-01  5.44535108e-02\n",
      "  -2.95887776e-02 -6.97939619e-02  3.21031883e-02  2.25738242e-01\n",
      "  -4.85103577e-02 -7.59402961e-02 -5.32344043e-01  9.96113196e-02\n",
      "  -8.26961920e-02 -2.19033152e-01 -2.17001304e-01 -8.63535181e-02\n",
      "  -1.21199697e-01 -3.73097993e-02 -4.79515977e-02  3.04015167e-02\n",
      "  -4.83071730e-02  5.57742119e-02 -2.12328061e-01  1.46496207e-01]\n",
      " [-2.05299303e-01  2.19589040e-01 -6.58972710e-02  1.50710449e-01\n",
      "  -1.93014238e-02  4.43701446e-01 -7.70514905e-02  1.01878621e-01\n",
      "  -3.38635892e-01  4.27664042e-01 -1.45570263e-01  2.30280638e-01\n",
      "  -1.19252473e-01 -8.77944902e-02  7.83879384e-02  1.87514231e-01\n",
      "   4.21238802e-02 -5.39720245e-02 -3.61869574e-01  6.76449388e-02\n",
      "  -1.50504842e-01 -9.41169262e-02 -4.79836985e-02 -1.16065554e-01\n",
      "   3.86028476e-02  1.03266470e-01 -1.32102957e-02 -2.01238543e-02\n",
      "   4.98084687e-02 -5.30467890e-02  2.54278909e-03  1.68701127e-01]]\n"
     ]
    }
   ],
   "source": [
    "import numpy as np\n",
    "\n",
    "print(np.array(result))"
   ]
  },
  {
   "cell_type": "code",
   "execution_count": null,
   "metadata": {},
   "outputs": [],
   "source": []
  }
 ],
 "metadata": {
  "language_info": {
   "name": "python"
  }
 },
 "nbformat": 4,
 "nbformat_minor": 2
}
